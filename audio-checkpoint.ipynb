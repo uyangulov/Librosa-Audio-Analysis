{
 "cells": [
  {
   "cell_type": "code",
   "execution_count": 53,
   "metadata": {},
   "outputs": [
    {
     "name": "stdout",
     "output_type": "stream",
     "text": [
      "0.6.2\n"
     ]
    }
   ],
   "source": [
    "import librosa\n",
    "print(librosa.__version__)\n",
    "import numpy as np\n",
    "import matplotlib.pyplot as plt\n",
    "import librosa.display"
   ]
  },
  {
   "cell_type": "code",
   "execution_count": 54,
   "metadata": {},
   "outputs": [
    {
     "name": "stdout",
     "output_type": "stream",
     "text": [
      "2874438 22050\n"
     ]
    }
   ],
   "source": [
    "y, sr = librosa.load(\"C:\\\\Users\\\\kirill\\\\Desktop\\\\project_case\\\\audio.mp3\")\n",
    "print(len(y), sr)"
   ]
  },
  {
   "cell_type": "code",
   "execution_count": 55,
   "metadata": {},
   "outputs": [
    {
     "data": {
      "text/plain": [
       "array([[   0.        ,    0.        ,    0.        , ..., 3543.9944528 ,\n",
       "        3438.53402963, 3524.0869585 ]])"
      ]
     },
     "execution_count": 55,
     "metadata": {},
     "output_type": "execute_result"
    }
   ],
   "source": [
    "cent_sp = librosa.feature.spectral_centroid(y=y, sr=sr)\n",
    "cent_sp"
   ]
  },
  {
   "cell_type": "code",
   "execution_count": 56,
   "metadata": {},
   "outputs": [
    {
     "data": {
      "text/plain": [
       "array([[   0.        ,    0.        ,    0.        , ..., 7881.15234375,\n",
       "        7708.88671875, 7924.21875   ]])"
      ]
     },
     "execution_count": 56,
     "metadata": {},
     "output_type": "execute_result"
    }
   ],
   "source": [
    "rolloff = librosa.feature.spectral_rolloff(y=y, sr=sr)\n",
    "rolloff"
   ]
  },
  {
   "cell_type": "code",
   "execution_count": 57,
   "metadata": {},
   "outputs": [
    {
     "data": {
      "text/plain": [
       "array([[0.        , 0.        , 0.        , ..., 0.14648438, 0.12255859,\n",
       "        0.08691406]])"
      ]
     },
     "execution_count": 57,
     "metadata": {},
     "output_type": "execute_result"
    }
   ],
   "source": [
    "zero_cr_rate = librosa.feature.zero_crossing_rate(y)\n",
    "zero_cr_rate"
   ]
  },
  {
   "cell_type": "code",
   "execution_count": 58,
   "metadata": {},
   "outputs": [
    {
     "name": "stderr",
     "output_type": "stream",
     "text": [
      "C:\\Users\\kirill\\Anaconda3\\lib\\site-packages\\scipy\\fftpack\\basic.py:160: FutureWarning: Using a non-tuple sequence for multidimensional indexing is deprecated; use `arr[tuple(seq)]` instead of `arr[seq]`. In the future this will be interpreted as an array index, `arr[np.array(seq)]`, which will result either in an error or a different result.\n",
      "  z[index] = x\n"
     ]
    }
   ],
   "source": [
    "my_hop_length = 512\n",
    "oenv = librosa.onset.onset_strength(y=y, sr=sr, hop_length=hop_length)\n",
    "tempogram = librosa.feature.tempogram(onset_envelope=oenv, sr=sr, hop_length=my_hop_length)\n",
    "# Compute global onset autocorrelation\n",
    "ac_global = librosa.autocorrelate(oenv, max_size=tempogram.shape[0])\n",
    "ac_global = librosa.util.normalize(ac_global)\n",
    "# Estimate the global tempo for display purposes\n",
    "tempo = librosa.beat.tempo(onset_envelope=oenv, sr=sr,hop_length=hop_length)[0]"
   ]
  },
  {
   "cell_type": "code",
   "execution_count": 59,
   "metadata": {},
   "outputs": [
    {
     "data": {
      "text/plain": [
       "(-280.7, 5894.7, -0.3162091961516337, 6.640393119184306)"
      ]
     },
     "execution_count": 59,
     "metadata": {},
     "output_type": "execute_result"
    },
    {
     "data": {
      "image/png": "[encoded data removed]",
      "text/plain": [
       "<Figure size 576x576 with 1 Axes>"
      ]
     },
     "metadata": {
      "needs_background": "light"
     },
     "output_type": "display_data"
    }
   ],
   "source": [
    "\n",
    ">>> plt.figure(figsize=(8, 8))\n",
    ">>> plt.subplot(4, 1, 1)\n",
    ">>> plt.plot(oenv, label='Onset strength')\n",
    ">>> plt.xticks([])\n",
    ">>> plt.legend(frameon=True)\n",
    ">>> plt.axis('tight')"
   ]
  },
  {
   "cell_type": "code",
   "execution_count": null,
   "metadata": {},
   "outputs": [],
   "source": [
    ">>> # We'll truncate the display to a narrower range of tempi\n",
    ">>> librosa.display.specshow(tempogram, sr=sr, hop_length=hop_length,\n",
    ">>>                          x_axis='time', y_axis='tempo')\n",
    ">>> plt.axhline(tempo, color='w', linestyle='--', alpha=1,\n",
    "...             label='Estimated tempo={:g}'.format(tempo))\n",
    ">>> plt.legend(frameon=True, framealpha=0.75)\n",
    "plt.show()"
   ]
  },
  {
   "cell_type": "code",
   "execution_count": null,
   "metadata": {},
   "outputs": [],
   "source": [
    ">>> x = np.linspace(0, tempogram.shape[0] * float(hop_length) / sr,\n",
    "...                 num=tempogram.shape[0])\n",
    ">>> plt.plot(x, np.mean(tempogram, axis=1), label='Mean local autocorrelation')\n",
    ">>> plt.plot(x, ac_global, '--', alpha=0.75, label='Global autocorrelation')\n",
    ">>> plt.xlabel('Lag (seconds)')\n",
    ">>> plt.axis('tight')\n",
    ">>> plt.legend(frameon=True)"
   ]
  },
  {
   "cell_type": "code",
   "execution_count": null,
   "metadata": {},
   "outputs": [],
   "source": [
    ">>> # We can also plot on a BPM axis\n",
    ">>> freqs = librosa.tempo_frequencies(tempogram.shape[0], hop_length=hop_length, sr=sr)\n",
    ">>> plt.semilogx(freqs[1:], np.mean(tempogram[1:], axis=1),\n",
    "...              label='Mean local autocorrelation', basex=2)\n",
    ">>> plt.semilogx(freqs[1:], ac_global[1:], '--', alpha=0.75,\n",
    "...              label='Global autocorrelation', basex=2)\n",
    ">>> plt.axvline(tempo, color='black', linestyle='--', alpha=.8,\n",
    "...             label='Estimated tempo={:g}'.format(tempo))\n",
    ">>> plt.legend(frameon=True)\n",
    ">>> plt.xlabel('BPM')\n",
    ">>> plt.axis('tight')\n",
    ">>> plt.grid()\n",
    ">>> plt.tight_layout()"
   ]
  },
  {
   "cell_type": "code",
   "execution_count": null,
   "metadata": {},
   "outputs": [],
   "source": []
  },
  {
   "cell_type": "code",
   "execution_count": null,
   "metadata": {},
   "outputs": [],
   "source": []
  },
  {
   "cell_type": "code",
   "execution_count": null,
   "metadata": {},
   "outputs": [],
   "source": []
  },
  {
   "cell_type": "code",
   "execution_count": null,
   "metadata": {},
   "outputs": [],
   "source": []
  }
 ],
 "metadata": {
  "kernelspec": {
   "display_name": "Python 3",
   "language": "python",
   "name": "python3"
  },
  "language_info": {
   "codemirror_mode": {
    "name": "ipython",
    "version": 3
   },
   "file_extension": ".py",
   "mimetype": "text/x-python",
   "name": "python",
   "nbconvert_exporter": "python",
   "pygments_lexer": "ipython3",
   "version": "3.7.0"
  }
 },
 "nbformat": 4,
 "nbformat_minor": 2
}
